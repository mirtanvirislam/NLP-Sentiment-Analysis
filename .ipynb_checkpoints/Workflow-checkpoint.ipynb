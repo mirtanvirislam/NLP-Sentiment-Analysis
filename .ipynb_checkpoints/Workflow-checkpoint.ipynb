{
 "cells": [
  {
   "cell_type": "markdown",
   "metadata": {},
   "source": [
    "# Workflow for Sentiment Analysis"
   ]
  },
  {
   "cell_type": "markdown",
   "metadata": {},
   "source": [
    "\n"
   ]
  },
  {
   "cell_type": "markdown",
   "metadata": {
    "ExecuteTime": {
     "end_time": "2020-04-11T19:23:15.325412Z",
     "start_time": "2020-04-11T19:23:15.316436Z"
    }
   },
   "source": [
    "### mick-zhang\n",
    "\n",
    "https://github.com/mick-zhang/Amazon-Reviews-using-Sentiment-Analysis\n",
    "\n",
    "- Raw data analysis\n",
    "- Variation of data for each feature\n",
    "- Target data distribution\n",
    "- Unique ASINs\n",
    "- Repeat name for unique ASINs\n",
    "- Repeat ASIN for unique name\n",
    "- Review lengths\n",
    "- Review frequency\n",
    "- Group review by product\n",
    "- Pointplot for grouped review\n",
    "- Group recommend by product\n",
    "- Correlation table\n",
    "- Mean ratings for product\n",
    "- Set target varabile (sentiments)\n",
    "- Extract features (bag of words)\n",
    "- ML Algorithms"
   ]
  },
  {
   "cell_type": "markdown",
   "metadata": {},
   "source": [
    "### jeremygrace\n",
    "\n",
    "https://github.com/jeremygrace/amazon-reviews\n",
    "\n",
    "- Unique ASINs\n",
    "- Most, least, median reviewed product and rating\n",
    "- Positive sentiment wordcloud\n",
    "- Negative sentiment wordcloud\n",
    "- Count vectorizer\n",
    "- Confusion matrix\n",
    "- Grid search\n",
    "- Multinomial Bayes\n",
    "- TfidfVectorizer\n",
    "- Clustering / Topic Modeling\n",
    "- Nonnegative Matrix Factorization (NMF)\n",
    "- Latent Dirichlet Allocation (Lda)\n",
    "- Term frequency (tf)\n",
    "- Term frequency-inverse document frequency (tfidf)"
   ]
  },
  {
   "cell_type": "markdown",
   "metadata": {
    "ExecuteTime": {
     "end_time": "2020-04-11T19:40:17.592154Z",
     "start_time": "2020-04-11T19:40:17.587168Z"
    }
   },
   "source": [
    "### ashu20031994\n",
    "\n",
    "https://github.com/ashu20031994/Amazon-Reviews-Sentiment-Analysis\n",
    "\n",
    "- Dataset statistics\n",
    "- Score variance graph\n",
    "- Positive/ negative graph\n",
    "- Popular words in positive sentiment\n",
    "- Popular words in negative sentiment\n",
    "- Positive reviews are found more helpful\n",
    "- How does word count relate to helpfulness?\n",
    "- Frequency of reviewers\n",
    "- Average ratings of reviewers\n",
    "- Positive reviews are very common\n",
    "- Positive reviews are shorter.\n",
    "- Are frequent reviewers more helpful?\n",
    "- Are frequent reviewers more verbose?\n",
    "- Longer reviews are more helpful\n",
    "- Despite being more common and shorter, positive reviews are found more helpful\n",
    "- Frequent reviewers are more discerning in their ratings, write longer reviews, and write more helpful reviews"
   ]
  },
  {
   "cell_type": "markdown",
   "metadata": {},
   "source": [
    "### alaBay94\n",
    "\n",
    "https://github.com/alaBay94/Sentiment-analysis-amazon-Products-Reviews\n",
    "    \n",
    "- NLTK natural language Tool Kit\n",
    "- Tokenize\n",
    "- Clean text with corpus, remove stop words, html, tags, irrelevant word\n",
    "- Lemmatizing words\n",
    "- Word Embeddings word2vec\n",
    "- Cosine similarity\n",
    "- 3D plotly word embeding PCA visualization\n",
    "- 3D plotly word embeding t-sne visualization\n",
    "- Classification report ⭐, ROC\n",
    "- LSTM\n",
    "-  Unique_id Has the same information as \"asin\" \"title\" \"reviewer\" so we can eliminate it"
   ]
  },
  {
   "cell_type": "code",
   "execution_count": null,
   "metadata": {},
   "outputs": [],
   "source": []
  }
 ],
 "metadata": {
  "kernelspec": {
   "display_name": "Python 3",
   "language": "python",
   "name": "python3"
  },
  "language_info": {
   "codemirror_mode": {
    "name": "ipython",
    "version": 3
   },
   "file_extension": ".py",
   "mimetype": "text/x-python",
   "name": "python",
   "nbconvert_exporter": "python",
   "pygments_lexer": "ipython3",
   "version": "3.7.6"
  },
  "varInspector": {
   "cols": {
    "lenName": 16,
    "lenType": 16,
    "lenVar": 40
   },
   "kernels_config": {
    "python": {
     "delete_cmd_postfix": "",
     "delete_cmd_prefix": "del ",
     "library": "var_list.py",
     "varRefreshCmd": "print(var_dic_list())"
    },
    "r": {
     "delete_cmd_postfix": ") ",
     "delete_cmd_prefix": "rm(",
     "library": "var_list.r",
     "varRefreshCmd": "cat(var_dic_list()) "
    }
   },
   "types_to_exclude": [
    "module",
    "function",
    "builtin_function_or_method",
    "instance",
    "_Feature"
   ],
   "window_display": false
  }
 },
 "nbformat": 4,
 "nbformat_minor": 4
}
