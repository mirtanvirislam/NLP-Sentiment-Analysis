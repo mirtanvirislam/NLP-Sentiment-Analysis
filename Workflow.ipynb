{
 "cells": [
  {
   "cell_type": "markdown",
   "metadata": {},
   "source": [
    "# Workflow for Sentiment Analysis"
   ]
  },
  {
   "cell_type": "markdown",
   "metadata": {},
   "source": [
    "\n"
   ]
  },
  {
   "cell_type": "markdown",
   "metadata": {
    "ExecuteTime": {
     "end_time": "2020-04-11T19:23:15.325412Z",
     "start_time": "2020-04-11T19:23:15.316436Z"
    }
   },
   "source": [
    "### mick-zhang\n",
    "https://github.com/mick-zhang/Amazon-Reviews-using-Sentiment-Analysis/blob/master/Amazon%20Project%20Github.ipynb\n",
    "\n",
    "- Raw data analysis\n",
    "- Variation of data for each feature\n",
    "- Target data distribution\n",
    "- Unique ASINs\n",
    "- Repeat name for unique ASINs\n",
    "- Repeat ASIN for unique name\n",
    "- Review lengths\n",
    "- Review frequency\n",
    "- Group review by product\n",
    "- Pointplot for grouped review\n",
    "- Group recommend by product\n",
    "- Correlation table\n",
    "- Mean ratings for product\n",
    "- Set target varabile (sentiments)\n",
    "- Extract features (bag of words)\n",
    "- Naive Bayes\n",
    "- SVM\n",
    "- "
   ]
  },
  {
   "cell_type": "code",
   "execution_count": null,
   "metadata": {},
   "outputs": [],
   "source": []
  }
 ],
 "metadata": {
  "kernelspec": {
   "display_name": "Python 3",
   "language": "python",
   "name": "python3"
  },
  "language_info": {
   "codemirror_mode": {
    "name": "ipython",
    "version": 3
   },
   "file_extension": ".py",
   "mimetype": "text/x-python",
   "name": "python",
   "nbconvert_exporter": "python",
   "pygments_lexer": "ipython3",
   "version": "3.7.6"
  },
  "varInspector": {
   "cols": {
    "lenName": 16,
    "lenType": 16,
    "lenVar": 40
   },
   "kernels_config": {
    "python": {
     "delete_cmd_postfix": "",
     "delete_cmd_prefix": "del ",
     "library": "var_list.py",
     "varRefreshCmd": "print(var_dic_list())"
    },
    "r": {
     "delete_cmd_postfix": ") ",
     "delete_cmd_prefix": "rm(",
     "library": "var_list.r",
     "varRefreshCmd": "cat(var_dic_list()) "
    }
   },
   "types_to_exclude": [
    "module",
    "function",
    "builtin_function_or_method",
    "instance",
    "_Feature"
   ],
   "window_display": false
  }
 },
 "nbformat": 4,
 "nbformat_minor": 4
}
