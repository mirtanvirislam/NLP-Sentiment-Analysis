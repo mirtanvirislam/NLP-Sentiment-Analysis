{
 "cells": [
  {
   "cell_type": "code",
   "execution_count": 1,
   "metadata": {
    "ExecuteTime": {
     "end_time": "2020-05-24T14:53:48.370606Z",
     "start_time": "2020-05-24T14:53:45.097393Z"
    }
   },
   "outputs": [],
   "source": [
    "import pandas as pd\n",
    "import matplotlib.pyplot as plt\n",
    "import string\n",
    "from nltk.corpus import stopwords\n",
    "from nltk.tokenize import word_tokenize"
   ]
  },
  {
   "cell_type": "code",
   "execution_count": 2,
   "metadata": {
    "ExecuteTime": {
     "end_time": "2020-05-24T14:53:50.932796Z",
     "start_time": "2020-05-24T14:53:49.007772Z"
    }
   },
   "outputs": [],
   "source": [
    "# Load Amazon customer review data\n",
    "\n",
    "# Load 1429_1.csv\n",
    "df = pd.read_csv(\"../data/consumer-reviews-of-amazon-products/Datafiniti_Amazon_Consumer_Reviews_of_Amazon_Products_May19.csv\")"
   ]
  },
  {
   "cell_type": "code",
   "execution_count": 3,
   "metadata": {
    "ExecuteTime": {
     "end_time": "2020-05-24T14:53:52.743850Z",
     "start_time": "2020-05-24T14:53:52.735872Z"
    }
   },
   "outputs": [
    {
     "name": "stdout",
     "output_type": "stream",
     "text": [
      "Data dimensions:  (28332, 24)\n",
      "Total rows: 28332\n",
      "Total columns:  24\n",
      "Columns: \n",
      " ['id' 'dateAdded' 'dateUpdated' 'name' 'asins' 'brand' 'categories'\n",
      " 'primaryCategories' 'imageURLs' 'keys' 'manufacturer'\n",
      " 'manufacturerNumber' 'reviews.date' 'reviews.dateSeen'\n",
      " 'reviews.didPurchase' 'reviews.doRecommend' 'reviews.id'\n",
      " 'reviews.numHelpful' 'reviews.rating' 'reviews.sourceURLs' 'reviews.text'\n",
      " 'reviews.title' 'reviews.username' 'sourceURLs']\n"
     ]
    }
   ],
   "source": [
    "df.shape\n",
    "row=df.shape[0]\n",
    "cols=df.shape[1]\n",
    "print('Data dimensions: ', df.shape)\n",
    "print('Total rows:', row)\n",
    "print('Total columns: ', cols)\n",
    "print('Columns: \\n', df.columns.values)"
   ]
  },
  {
   "cell_type": "code",
   "execution_count": 4,
   "metadata": {
    "ExecuteTime": {
     "end_time": "2020-05-24T14:53:54.118329Z",
     "start_time": "2020-05-24T14:53:54.101374Z"
    }
   },
   "outputs": [
    {
     "name": "stdout",
     "output_type": "stream",
     "text": [
      "<class 'pandas.core.frame.DataFrame'>\n",
      "RangeIndex: 28332 entries, 0 to 28331\n",
      "Data columns (total 3 columns):\n",
      " #   Column          Non-Null Count  Dtype \n",
      "---  ------          --------------  ----- \n",
      " 0   reviews.rating  28332 non-null  int64 \n",
      " 1   reviews.text    28332 non-null  object\n",
      " 2   reviews.title   28332 non-null  object\n",
      "dtypes: int64(1), object(2)\n",
      "memory usage: 664.2+ KB\n"
     ]
    }
   ],
   "source": [
    "# Selecting columns necessary for sentiment analysis\n",
    "\n",
    "data = df[['reviews.rating', 'reviews.text', 'reviews.title']]\n",
    "data.info()"
   ]
  },
  {
   "cell_type": "code",
   "execution_count": 5,
   "metadata": {
    "ExecuteTime": {
     "end_time": "2020-05-24T14:53:55.375445Z",
     "start_time": "2020-05-24T14:53:55.357480Z"
    }
   },
   "outputs": [
    {
     "name": "stdout",
     "output_type": "stream",
     "text": [
      "Null values in dataset: \n",
      " reviews.rating    0\n",
      "reviews.text      0\n",
      "reviews.title     0\n",
      "dtype: int64\n",
      "\n",
      "Na entries in dataset: \n",
      " reviews.rating    0\n",
      "reviews.text      0\n",
      "reviews.title     0\n",
      "dtype: int64\n"
     ]
    }
   ],
   "source": [
    "### sanity check\n",
    "print(\"Null values in dataset: \\n\", data.isnull().sum())\n",
    "print(\"\\nNa entries in dataset: \\n\", data.isna().sum())"
   ]
  },
  {
   "cell_type": "code",
   "execution_count": 6,
   "metadata": {
    "ExecuteTime": {
     "end_time": "2020-05-24T14:53:57.003097Z",
     "start_time": "2020-05-24T14:53:56.670427Z"
    }
   },
   "outputs": [
    {
     "name": "stdout",
     "output_type": "stream",
     "text": [
      "Review rating statistics:\n",
      "2      616\n",
      "1      965\n",
      "3     1206\n",
      "4     5648\n",
      "5    19897\n",
      "Name: reviews.rating, dtype: int64\n"
     ]
    },
    {
     "data": {
      "image/png": "[encoded data removed]",
      "text/plain": [
       "<Figure size 432x288 with 1 Axes>"
      ]
     },
     "metadata": {},
     "output_type": "display_data"
    }
   ],
   "source": [
    "# Count and Visualize distribution of ratings\n",
    "\n",
    "data = data.dropna(how=\"any\")\n",
    "review_stats = data['reviews.rating'].value_counts().sort_values()\n",
    "\n",
    "print(\"Review rating statistics:\")\n",
    "print(review_stats)\n",
    "\n",
    "_ = data['reviews.rating'].value_counts().sort_values().plot.pie()"
   ]
  },
  {
   "cell_type": "code",
   "execution_count": 7,
   "metadata": {
    "ExecuteTime": {
     "end_time": "2020-05-24T14:54:00.990198Z",
     "start_time": "2020-05-24T14:53:59.462550Z"
    }
   },
   "outputs": [
    {
     "name": "stderr",
     "output_type": "stream",
     "text": [
      "[nltk_data] Downloading package punkt to\n",
      "[nltk_data]     C:\\Users\\mirta\\AppData\\Roaming\\nltk_data...\n",
      "[nltk_data]   Package punkt is already up-to-date!\n",
      "[nltk_data] Downloading package stopwords to\n",
      "[nltk_data]     C:\\Users\\mirta\\AppData\\Roaming\\nltk_data...\n",
      "[nltk_data]   Package stopwords is already up-to-date!\n"
     ]
    },
    {
     "data": {
      "text/plain": [
       "True"
      ]
     },
     "execution_count": 7,
     "metadata": {},
     "output_type": "execute_result"
    }
   ],
   "source": [
    "import nltk\n",
    "nltk.download('punkt')\n",
    "nltk.download('stopwords')"
   ]
  },
  {
   "cell_type": "code",
   "execution_count": 32,
   "metadata": {
    "ExecuteTime": {
     "end_time": "2020-05-20T10:25:10.325886Z",
     "start_time": "2020-05-20T10:25:10.307930Z"
    }
   },
   "outputs": [
    {
     "name": "stdout",
     "output_type": "stream",
     "text": [
      "Positive words : \n",
      "        words\n",
      "0         a+\n",
      "1     abound\n",
      "2    abounds\n",
      "3  abundance\n",
      "4   abundant\n",
      "\n",
      "Negative words: \n",
      "         words\n",
      "0     2-faced\n",
      "1     2-faces\n",
      "2    abnormal\n",
      "3     abolish\n",
      "4  abominable\n"
     ]
    }
   ],
   "source": [
    "# Standard Sentiment Analysis\n",
    "\n",
    "neg_words = pd.read_csv('../data/negative.csv')\n",
    "pos_words = pd.read_csv('../data/positive.csv')\n",
    "\n",
    "print(\"Positive words : \\n\", pos_words.head())\n",
    "print(\"\\nNegative words: \\n\", neg_words.head())"
   ]
  },
  {
   "cell_type": "code",
   "execution_count": 33,
   "metadata": {
    "ExecuteTime": {
     "end_time": "2020-05-20T10:26:41.585620Z",
     "start_time": "2020-05-20T10:26:41.578640Z"
    }
   },
   "outputs": [],
   "source": [
    "### helper function to decide sentiment factor in given text\n",
    "def assign_sentiment(sentence):\n",
    "    neg_cnt=0\n",
    "    pos_cnt=0\n",
    "    neu_cnt=0\n",
    "    tokenized_sentence=word_tokenize(sentence)\n",
    "    tokenized_words=[''.join(x for x in y if x not in string.punctuation) for y in tokenized_sentence]\n",
    "    non_stopwords=[x for x in tokenized_words if x not in stopwords.words(\"english\")]\n",
    "    for word in non_stopwords:\n",
    "        if word in neg_words:\n",
    "            neg_cnt+=1\n",
    "        elif word in pos_words:\n",
    "            pos_cnt+=1\n",
    "        else:\n",
    "            neu_cnt+=1\n",
    "    if pos_cnt>neg_cnt:\n",
    "        return +1\n",
    "    elif neg_cnt>pos_cnt:\n",
    "        return -1\n",
    "    else:\n",
    "        return 0"
   ]
  },
  {
   "cell_type": "code",
   "execution_count": 36,
   "metadata": {
    "ExecuteTime": {
     "end_time": "2020-05-20T10:33:22.121986Z",
     "start_time": "2020-05-20T10:28:32.218417Z"
    }
   },
   "outputs": [
    {
     "name": "stdout",
     "output_type": "stream",
     "text": [
      "0\n",
      "23\n",
      "28309\n"
     ]
    }
   ],
   "source": [
    "pos_reviews=0\n",
    "neg_reviews=0\n",
    "neu_reviews=0\n",
    "for review in data['reviews.text']:\n",
    "    cnt=assign_sentiment(review)\n",
    "    if cnt==1:\n",
    "        pos_reviews+=1\n",
    "    elif cnt==-1:\n",
    "        neg_reviews+=1\n",
    "    else:\n",
    "        neu_reviews+=1\n",
    "        "
   ]
  },
  {
   "cell_type": "code",
   "execution_count": 37,
   "metadata": {
    "ExecuteTime": {
     "end_time": "2020-05-20T10:34:51.063265Z",
     "start_time": "2020-05-20T10:34:51.059267Z"
    }
   },
   "outputs": [
    {
     "name": "stdout",
     "output_type": "stream",
     "text": [
      "Positive reviews:  0\n",
      "Negative reviews:  23\n",
      "Neutral reviews:  28309\n"
     ]
    }
   ],
   "source": [
    "print(\"Positive reviews: \", pos_reviews)\n",
    "print(\"Negative reviews: \", neg_reviews)\n",
    "print(\"Neutral reviews: \", neu_reviews)"
   ]
  },
  {
   "cell_type": "code",
   "execution_count": 41,
   "metadata": {
    "ExecuteTime": {
     "end_time": "2020-05-20T10:38:52.346229Z",
     "start_time": "2020-05-20T10:38:52.259436Z"
    }
   },
   "outputs": [
    {
     "name": "stdout",
     "output_type": "stream",
     "text": [
      "Sentiment label statistics:\n",
      "Neutral      1206\n",
      "Negative     1581\n",
      "Positive    25545\n",
      "Name: sentiment_label, dtype: int64\n"
     ]
    },
    {
     "data": {
      "image/png": "[encoded data removed]",
      "text/plain": [
       "<Figure size 432x288 with 1 Axes>"
      ]
     },
     "metadata": {},
     "output_type": "display_data"
    }
   ],
   "source": [
    "# from above plot we can see that porportion of positive, neutral and negative reviews are quite unusal. To get better result, I intend to use feature engineering to train respective machine learning classifier to predict unlabled review data.\n",
    "\n",
    "# Assigning sentiment label from review score/ rating\n",
    "\n",
    "def sentiment_labeler(score):\n",
    "    if (score==5) or (score==4):\n",
    "        return \"Positive\"\n",
    "    elif (score==3):\n",
    "        return \"Neutral\"\n",
    "    else:\n",
    "        return \"Negative\"\n",
    "    \n",
    "data[\"sentiment_label\"] = data[\"reviews.rating\"].apply(sentiment_labeler)\n",
    "\n",
    "sentiment_labels = data['sentiment_label'].value_counts().sort_values()\n",
    "print(\"Sentiment label statistics:\")\n",
    "print(sentiment_labels)\n",
    "\n",
    "_ = data[\"sentiment_label\"].value_counts().sort_values().plot.pie()"
   ]
  },
  {
   "cell_type": "code",
   "execution_count": 45,
   "metadata": {
    "ExecuteTime": {
     "end_time": "2020-05-20T10:40:06.353008Z",
     "start_time": "2020-05-20T10:40:06.267237Z"
    }
   },
   "outputs": [
    {
     "name": "stdout",
     "output_type": "stream",
     "text": [
      "Train data size:  (22665, 4)\n",
      "Test data size:  (5667, 4)\n"
     ]
    }
   ],
   "source": [
    "### data preparing\n",
    "\n",
    "from sklearn.model_selection import StratifiedShuffleSplit\n",
    "\n",
    "split_data=StratifiedShuffleSplit(n_splits=5, test_size=0.2)\n",
    "for tr_indx, ts_indx in split_data.split(data, data[\"reviews.rating\"]):\n",
    "    train_data=data.reindex(tr_indx)\n",
    "    test_data=data.reindex(ts_indx)\n",
    "\n",
    "print(\"Train data size: \", train_data.shape)\n",
    "print(\"Test data size: \", test_data.shape)"
   ]
  },
  {
   "cell_type": "code",
   "execution_count": 48,
   "metadata": {
    "ExecuteTime": {
     "end_time": "2020-05-20T10:41:10.177938Z",
     "start_time": "2020-05-20T10:41:10.162976Z"
    }
   },
   "outputs": [
    {
     "name": "stdout",
     "output_type": "stream",
     "text": [
      "Check for porportion of diff scale rating: \n",
      " 5    0.702272\n",
      "4    0.199338\n",
      "3    0.042577\n",
      "1    0.034061\n",
      "2    0.021752\n",
      "Name: reviews.rating, dtype: float64\n",
      "\n",
      "Check for porportion of diff scale rating in training data: \n",
      " 5    0.702272\n",
      "4    0.199338\n",
      "3    0.042577\n",
      "1    0.034061\n",
      "2    0.021752\n",
      "Name: reviews.rating, dtype: float64\n"
     ]
    }
   ],
   "source": [
    "# Check if distribution of rating is identical after splitting\n",
    "\n",
    "## sanity check\n",
    "tr_data_stats= train_data[\"reviews.rating\"].value_counts()/len(train_data)\n",
    "\n",
    "print(\"Check for porportion of diff scale rating: \\n\", tr_data_stats)\n",
    "\n",
    "ts_data_stats= test_data[\"reviews.rating\"].value_counts()/len(test_data)\n",
    "\n",
    "print(\"\\nCheck for porportion of diff scale rating in training data: \\n\", tr_data_stats)"
   ]
  },
  {
   "cell_type": "code",
   "execution_count": 50,
   "metadata": {
    "ExecuteTime": {
     "end_time": "2020-05-20T10:41:39.744697Z",
     "start_time": "2020-05-20T10:41:39.737715Z"
    }
   },
   "outputs": [
    {
     "name": "stdout",
     "output_type": "stream",
     "text": [
      "Dimension of training data: (22665,)\n",
      "Dimension of testing data: (5667,)\n"
     ]
    }
   ],
   "source": [
    "# Preparing data\n",
    "\n",
    "X_train=train_data['reviews.text']\n",
    "y_train=train_data[\"sentiment_label\"]\n",
    "X_test=test_data[\"reviews.text\"]\n",
    "y_test=test_data[\"sentiment_label\"]\n",
    "print(\"Dimension of training data:\", X_train.shape)\n",
    "print(\"Dimension of testing data:\", X_test.shape)"
   ]
  },
  {
   "cell_type": "code",
   "execution_count": 51,
   "metadata": {
    "ExecuteTime": {
     "end_time": "2020-05-20T10:42:22.009360Z",
     "start_time": "2020-05-20T10:42:21.378939Z"
    }
   },
   "outputs": [
    {
     "name": "stdout",
     "output_type": "stream",
     "text": [
      "Dimension of bag of words: \n",
      " (22665, 9642)\n",
      "\n",
      "\n",
      "tfidf for X_train   (0, 664)\t0.30151134457776363\n",
      "  (0, 5046)\t0.30151134457776363\n",
      "  (0, 5887)\t0.30151134457776363\n",
      "  (0, 6558)\t0.30151134457776363\n",
      "  (0, 6620)\t0.30151134457776363\n",
      "  (0, 6768)\t0.30151134457776363\n",
      "  (0, 6884)\t0.30151134457776363\n",
      "  (0, 8520)\t0.6030226891555273\n",
      "  (1, 628)\t0.25\n",
      "  (1, 664)\t0.5\n",
      "  (1, 769)\t0.25\n",
      "  (1, 3639)\t0.25\n",
      "  (1, 3744)\t0.25\n",
      "  (1, 3952)\t0.25\n",
      "  (1, 4807)\t0.25\n",
      "  (1, 5288)\t0.25\n",
      "  (1, 5922)\t0.25\n",
      "  (1, 6690)\t0.25\n",
      "  (1, 6867)\t0.25\n",
      "  (1, 7445)\t0.25\n",
      "  (1, 9178)\t0.25\n",
      "  (2, 624)\t0.2886751345948129\n",
      "  (2, 664)\t0.2886751345948129\n",
      "  (2, 1738)\t0.2886751345948129\n",
      "  (2, 3568)\t0.2886751345948129\n",
      "  :\t:\n",
      "  (22662, 4683)\t0.3922322702763681\n",
      "  (22662, 4954)\t0.19611613513818404\n",
      "  (22662, 5557)\t0.19611613513818404\n",
      "  (22662, 5810)\t0.19611613513818404\n",
      "  (22662, 7712)\t0.19611613513818404\n",
      "  (22662, 8192)\t0.19611613513818404\n",
      "  (22662, 8510)\t0.19611613513818404\n",
      "  (22662, 8642)\t0.19611613513818404\n",
      "  (22662, 8664)\t0.19611613513818404\n",
      "  (22662, 9590)\t0.19611613513818404\n",
      "  (22663, 664)\t0.3779644730092272\n",
      "  (22663, 3444)\t0.3779644730092272\n",
      "  (22663, 3863)\t0.3779644730092272\n",
      "  (22663, 6012)\t0.3779644730092272\n",
      "  (22663, 6558)\t0.3779644730092272\n",
      "  (22663, 8558)\t0.3779644730092272\n",
      "  (22663, 9481)\t0.3779644730092272\n",
      "  (22664, 571)\t0.35355339059327373\n",
      "  (22664, 781)\t0.35355339059327373\n",
      "  (22664, 4683)\t0.35355339059327373\n",
      "  (22664, 5129)\t0.35355339059327373\n",
      "  (22664, 5173)\t0.35355339059327373\n",
      "  (22664, 5842)\t0.35355339059327373\n",
      "  (22664, 8735)\t0.35355339059327373\n",
      "  (22664, 9483)\t0.35355339059327373\n"
     ]
    }
   ],
   "source": [
    "## Bag of words\n",
    "\n",
    "from  sklearn.feature_extraction.text import CountVectorizer\n",
    "from sklearn.feature_extraction.text import TfidfTransformer\n",
    "\n",
    "X_train=X_train.fillna(' ')\n",
    "X_test=X_test.fillna(' ')\n",
    "y_train=y_train.fillna(' ')\n",
    "y_test=y_test.fillna(' ')\n",
    "\n",
    "X_train_cnts=CountVectorizer().fit_transform(X_train)\n",
    "print(\"Dimension of bag of words: \\n\", X_train_cnts.shape)\n",
    "print(\"\\n\")\n",
    "\n",
    "Tfidf=TfidfTransformer(use_idf=False)\n",
    "X_train_tfidf=Tfidf.fit_transform(X_train_cnts)\n",
    "print(\"tfidf for X_train\", X_train_tfidf)"
   ]
  },
  {
   "cell_type": "code",
   "execution_count": 52,
   "metadata": {
    "ExecuteTime": {
     "end_time": "2020-05-20T10:42:41.506867Z",
     "start_time": "2020-05-20T10:42:41.080299Z"
    }
   },
   "outputs": [],
   "source": [
    "### build machine learning models from extracted bag of words features\n",
    "\n",
    "from sklearn.naive_bayes import MultinomialNB\n",
    "from sklearn.metrics import classification_report\n",
    "from sklearn.linear_model import LogisticRegression\n",
    "from sklearn.naive_bayes import MultinomialNB\n",
    "from sklearn.ensemble import RandomForestClassifier\n",
    "from sklearn.svm import LinearSVC\n",
    "from sklearn.tree import DecisionTreeClassifier\n",
    "from sklearn import linear_model\n",
    "from sklearn.pipeline import Pipeline\n",
    "from sklearn import metrics"
   ]
  },
  {
   "cell_type": "code",
   "execution_count": 54,
   "metadata": {
    "ExecuteTime": {
     "end_time": "2020-05-20T10:43:30.946275Z",
     "start_time": "2020-05-20T10:43:30.011155Z"
    }
   },
   "outputs": [
    {
     "name": "stdout",
     "output_type": "stream",
     "text": [
      "Naive Bayes classifier accuracy report:\n",
      "               precision    recall  f1-score   support\n",
      "\n",
      "           1       0.80      0.03      0.05       316\n",
      "           0       0.00      0.00      0.00       241\n",
      "          -1       0.90      1.00      0.95      5110\n",
      "\n",
      "    accuracy                           0.90      5667\n",
      "   macro avg       0.57      0.34      0.33      5667\n",
      "weighted avg       0.86      0.90      0.86      5667\n",
      "\n"
     ]
    }
   ],
   "source": [
    "clf_multiNB_pipe = Pipeline([(\"vect\", CountVectorizer()), (\"tfidf\", TfidfTransformer()), (\"clf_nominalNB\", MultinomialNB())])\n",
    "clf_multiNB_pipe.fit(X_train,y_train)\n",
    "predicted_nb = clf_multiNB_pipe.predict(X_test)\n",
    "print(\"Naive Bayes classifier accuracy report:\\n\",metrics.classification_report(y_test, predicted_nb, target_names = ['1','0','-1']))"
   ]
  },
  {
   "cell_type": "code",
   "execution_count": 55,
   "metadata": {
    "ExecuteTime": {
     "end_time": "2020-05-20T10:44:36.591445Z",
     "start_time": "2020-05-20T10:44:33.547232Z"
    }
   },
   "outputs": [
    {
     "name": "stdout",
     "output_type": "stream",
     "text": [
      "Linear Regression accuracy report:\n",
      "               precision    recall  f1-score   support\n",
      "\n",
      "           1       0.76      0.54      0.63       316\n",
      "           0       0.61      0.11      0.19       241\n",
      "          -1       0.94      0.99      0.97      5110\n",
      "\n",
      "    accuracy                           0.93      5667\n",
      "   macro avg       0.77      0.55      0.60      5667\n",
      "weighted avg       0.92      0.93      0.91      5667\n",
      "\n"
     ]
    }
   ],
   "source": [
    "LR = LogisticRegression()\n",
    "# text_pipe_LR = Pipeline([('tfidf', TfidfVectorizer()), ('LR', LR)])\n",
    "clf_logitReg_pipe = Pipeline([(\"vect\", CountVectorizer()), (\"tfidf\", TfidfTransformer()), (\"clf_logitReg\", LogisticRegression())])\n",
    "clf_logitReg_pipe.fit(X_train,y_train)\n",
    "predicted_lr = clf_logitReg_pipe.predict(X_test)\n",
    "print(\"Linear Regression accuracy report:\\n\",metrics.classification_report(y_test, predicted_lr, target_names = ['1','0','-1']))"
   ]
  },
  {
   "cell_type": "code",
   "execution_count": 56,
   "metadata": {
    "ExecuteTime": {
     "end_time": "2020-05-20T10:45:01.313765Z",
     "start_time": "2020-05-20T10:45:00.251379Z"
    }
   },
   "outputs": [
    {
     "name": "stdout",
     "output_type": "stream",
     "text": [
      "SGD classifier accuracy report:\n",
      "               precision    recall  f1-score   support\n",
      "\n",
      "           1       0.81      0.55      0.65       316\n",
      "           0       0.00      0.00      0.00       241\n",
      "          -1       0.94      1.00      0.97      5110\n",
      "\n",
      "    accuracy                           0.93      5667\n",
      "   macro avg       0.58      0.52      0.54      5667\n",
      "weighted avg       0.89      0.93      0.91      5667\n",
      "\n"
     ]
    },
    {
     "name": "stderr",
     "output_type": "stream",
     "text": [
      "C:\\Users\\mirta\\Anaconda3\\envs\\Py_T\\lib\\site-packages\\sklearn\\metrics\\_classification.py:1272: UndefinedMetricWarning: Precision and F-score are ill-defined and being set to 0.0 in labels with no predicted samples. Use `zero_division` parameter to control this behavior.\n",
      "  _warn_prf(average, modifier, msg_start, len(result))\n"
     ]
    }
   ],
   "source": [
    "sgd_clf = linear_model.SGDClassifier(max_iter=1000)\n",
    "clf_sgd_pipe = Pipeline([(\"vect\", CountVectorizer()), (\"tfidf\", TfidfTransformer()), (\"clf_SGD\", sgd_clf)])\n",
    "clf_sgd_pipe.fit(X_train,y_train)\n",
    "predicted_sgd = clf_sgd_pipe.predict(X_test)\n",
    "print(\"SGD classifier accuracy report:\\n\",metrics.classification_report(y_test, predicted_sgd, target_names = ['1','0','-1']))"
   ]
  },
  {
   "cell_type": "code",
   "execution_count": 57,
   "metadata": {
    "ExecuteTime": {
     "end_time": "2020-05-20T10:45:30.275538Z",
     "start_time": "2020-05-20T10:45:28.995737Z"
    }
   },
   "outputs": [
    {
     "name": "stdout",
     "output_type": "stream",
     "text": [
      "SVC classifier accuracy report:\n",
      "               precision    recall  f1-score   support\n",
      "\n",
      "           1       0.79      0.73      0.76       316\n",
      "           0       0.72      0.30      0.43       241\n",
      "          -1       0.96      0.99      0.98      5110\n",
      "\n",
      "    accuracy                           0.95      5667\n",
      "   macro avg       0.82      0.67      0.72      5667\n",
      "weighted avg       0.94      0.95      0.94      5667\n",
      "\n"
     ]
    }
   ],
   "source": [
    "clf_svc_pipe = Pipeline([(\"vect\", CountVectorizer()), (\"tfidf\", TfidfTransformer()), (\"clf_svc\", LinearSVC())])\n",
    "clf_svc_pipe.fit(X_train,y_train)\n",
    "predicted_svc = clf_svc_pipe.predict(X_test)\n",
    "print(\"SVC classifier accuracy report:\\n\",metrics.classification_report(y_test, predicted_svc, target_names = ['1','0','-1']))"
   ]
  },
  {
   "cell_type": "code",
   "execution_count": 58,
   "metadata": {
    "ExecuteTime": {
     "end_time": "2020-05-20T10:46:08.013157Z",
     "start_time": "2020-05-20T10:45:54.891145Z"
    }
   },
   "outputs": [
    {
     "name": "stdout",
     "output_type": "stream",
     "text": [
      "Decision tree classifier accuracy report:\n",
      "               precision    recall  f1-score   support\n",
      "\n",
      "           1       0.69      0.66      0.67       316\n",
      "           0       0.64      0.49      0.55       241\n",
      "          -1       0.96      0.98      0.97      5110\n",
      "\n",
      "    accuracy                           0.94      5667\n",
      "   macro avg       0.76      0.71      0.73      5667\n",
      "weighted avg       0.93      0.94      0.94      5667\n",
      "\n"
     ]
    }
   ],
   "source": [
    "clf_dt_pipe = Pipeline([(\"vect\", CountVectorizer()), (\"tfidf\", TfidfTransformer()), (\"clf_dt\", DecisionTreeClassifier())])\n",
    "clf_dt_pipe.fit(X_train,y_train)\n",
    "predicted_dt = clf_dt_pipe.predict(X_test)\n",
    "print(\"Decision tree classifier accuracy report:\\n\",metrics.classification_report(y_test, predicted_dt, target_names = ['1','0','-1']))"
   ]
  },
  {
   "cell_type": "code",
   "execution_count": 59,
   "metadata": {
    "ExecuteTime": {
     "end_time": "2020-05-20T10:46:42.187140Z",
     "start_time": "2020-05-20T10:46:23.787177Z"
    }
   },
   "outputs": [
    {
     "name": "stdout",
     "output_type": "stream",
     "text": [
      "Random forest classifier accuracy report:\n",
      "               precision    recall  f1-score   support\n",
      "\n",
      "           1       0.94      0.53      0.68       316\n",
      "           0       0.97      0.43      0.60       241\n",
      "          -1       0.95      1.00      0.97      5110\n",
      "\n",
      "    accuracy                           0.95      5667\n",
      "   macro avg       0.95      0.65      0.75      5667\n",
      "weighted avg       0.95      0.95      0.94      5667\n",
      "\n"
     ]
    }
   ],
   "source": [
    "clf_randforest_pipe = Pipeline([(\"vect\", CountVectorizer()), (\"tfidf\", TfidfTransformer()), (\"clf_randforest\", RandomForestClassifier())])\n",
    "clf_randforest_pipe.fit(X_train,y_train)\n",
    "predicted_randforest = clf_randforest_pipe.predict(X_test)\n",
    "print(\"Random forest classifier accuracy report:\\n\",metrics.classification_report(y_test, predicted_randforest, target_names = ['1','0','-1']))"
   ]
  },
  {
   "cell_type": "code",
   "execution_count": null,
   "metadata": {},
   "outputs": [],
   "source": []
  }
 ],
 "metadata": {
  "kernelspec": {
   "display_name": "Py_T",
   "language": "python",
   "name": "py_t"
  },
  "language_info": {
   "codemirror_mode": {
    "name": "ipython",
    "version": 3
   },
   "file_extension": ".py",
   "mimetype": "text/x-python",
   "name": "python",
   "nbconvert_exporter": "python",
   "pygments_lexer": "ipython3",
   "version": "3.7.6"
  },
  "varInspector": {
   "cols": {
    "lenName": 16,
    "lenType": 16,
    "lenVar": 40
   },
   "kernels_config": {
    "python": {
     "delete_cmd_postfix": "",
     "delete_cmd_prefix": "del ",
     "library": "var_list.py",
     "varRefreshCmd": "print(var_dic_list())"
    },
    "r": {
     "delete_cmd_postfix": ") ",
     "delete_cmd_prefix": "rm(",
     "library": "var_list.r",
     "varRefreshCmd": "cat(var_dic_list()) "
    }
   },
   "types_to_exclude": [
    "module",
    "function",
    "builtin_function_or_method",
    "instance",
    "_Feature"
   ],
   "window_display": false
  }
 },
 "nbformat": 4,
 "nbformat_minor": 4
}
