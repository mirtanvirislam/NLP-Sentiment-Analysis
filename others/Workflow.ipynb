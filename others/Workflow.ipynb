{
 "cells": [
  {
   "cell_type": "markdown",
   "metadata": {},
   "source": [
    "# Workflow for Sentiment Analysis of Amazon Customer reviews"
   ]
  },
  {
   "cell_type": "markdown",
   "metadata": {},
   "source": [
    "\n"
   ]
  },
  {
   "cell_type": "markdown",
   "metadata": {
    "ExecuteTime": {
     "end_time": "2020-04-11T19:23:15.325412Z",
     "start_time": "2020-04-11T19:23:15.316436Z"
    }
   },
   "source": [
    "### mick-zhang\n",
    " \n",
    "https://github.com/mick-zhang/Amazon-Reviews-using-Sentiment-Analysis\n",
    "\n",
    "- Raw data analysis\n",
    "- Variation of data for each feature\n",
    "- Target data distribution\n",
    "- Unique ASINs\n",
    "- Repeat name for unique ASINs\n",
    "- Repeat ASIN for unique name\n",
    "- Review lengths\n",
    "- Review frequency\n",
    "- Group review by product\n",
    "- Pointplot for grouped review\n",
    "- Group recommend by product\n",
    "- Correlation table\n",
    "- Mean ratings for product\n",
    "- Set target varabile (sentiments)\n",
    "- Extract features (bag of words)\n",
    "- ML Algorithms\n",
    "\n",
    "---"
   ]
  },
  {
   "cell_type": "markdown",
   "metadata": {},
   "source": [
    "### jeremygrace\n",
    "\n",
    "https://github.com/jeremygrace/amazon-reviews\n",
    "\n",
    "- Unique ASINs\n",
    "- Most, least, median reviewed product and rating\n",
    "- Positive sentiment wordcloud\n",
    "- Negative sentiment wordcloud\n",
    "- Count vectorizer\n",
    "- Confusion matrix\n",
    "- Grid search\n",
    "- Multinomial Bayes\n",
    "- TfidfVectorizer\n",
    "- Clustering / Topic Modeling\n",
    "- Nonnegative Matrix Factorization (NMF)\n",
    "- Latent Dirichlet Allocation (Lda)\n",
    "- Term frequency (tf)\n",
    "- Term frequency-inverse document frequency (tfidf)\n",
    "\n",
    "---"
   ]
  },
  {
   "cell_type": "markdown",
   "metadata": {
    "ExecuteTime": {
     "end_time": "2020-04-11T19:40:17.592154Z",
     "start_time": "2020-04-11T19:40:17.587168Z"
    }
   },
   "source": [
    "### ashu20031994\n",
    "\n",
    "https://github.com/ashu20031994/Amazon-Reviews-Sentiment-Analysis\n",
    "\n",
    "- Dataset statistics\n",
    "- Score variance graph\n",
    "- Positive/ negative graph\n",
    "- Popular words in positive sentiment\n",
    "- Popular words in negative sentiment\n",
    "- Positive reviews are found more helpful\n",
    "- How does word count relate to helpfulness?\n",
    "- Frequency of reviewers\n",
    "- Average ratings of reviewers\n",
    "- Positive reviews are very common\n",
    "- Positive reviews are shorter.\n",
    "- Are frequent reviewers more helpful?\n",
    "- Are frequent reviewers more verbose?\n",
    "- Longer reviews are more helpful\n",
    "- Despite being more common and shorter, positive reviews are found more helpful\n",
    "- Frequent reviewers are more discerning in their ratings, write longer reviews, and write more helpful reviews\n",
    "\n",
    "---"
   ]
  },
  {
   "cell_type": "markdown",
   "metadata": {},
   "source": [
    "### alaBay94\n",
    "\n",
    "https://github.com/alaBay94/Sentiment-analysis-amazon-Products-Reviews\n",
    "    \n",
    "- NLTK natural language Tool Kit\n",
    "- Tokenize\n",
    "- Clean text with corpus, remove stop words, html, tags, irrelevant word\n",
    "- Lemmatizing words\n",
    "- Word Embeddings word2vec\n",
    "- Cosine similarity\n",
    "- 3D plotly word embeding PCA visualization\n",
    "- 3D plotly word embeding t-sne visualization\n",
    "- Classification report ⭐, ROC\n",
    "- LSTM\n",
    "-  Unique_id Has the same information as \"asin\" \"title\" \"reviewer\" so we can eliminate it\n",
    "\n",
    "---"
   ]
  },
  {
   "cell_type": "markdown",
   "metadata": {},
   "source": [
    "### Maha41\n",
    "\n",
    "https://github.com/Maha41/Sentiment-analysis-on-Amazon-Reviews-using-Python\n",
    "\n",
    "###### Analysis 1 :  SENTIMENTAL ANALYSIS ON REVIEWS\n",
    "- Wordcloud of summary section of 'Positive' and 'Negative' Reviews on Amazon\n",
    "- VADER (Valence Aware Dictionary and Sentiment Reasoner) Sentiment analysis tool to calculate sentiment of reviews\n",
    "- Sentiment distribution (positive, negative and neutral) across each product along with their names mapped with the product database 'ProductSample.json'\n",
    "- List of products with most number of positive, negative and neutral Sentiment (3 Different list)\n",
    "- Percentage distribution of positive, neutral and negative in terms of sentiments\n",
    "- Sentiment distribution across the Year\n",
    "\n",
    "###### Analysis 2 : EXPLORATORY ANALYSIS OF PRODUCT AND REVIEWS\n",
    "- No. of reviews over the years\n",
    "- No. of reivews by the month over the years\n",
    "- Distribution of 'overall rating'\n",
    "- Yearly average of 'overall rating'\n",
    "- Distribution of helpfulness\n",
    "- Distribtuion of length of reviews\n",
    "- Distribution of product prices\n",
    "- Product price vs overall rating\n",
    "- Average review length vs Product price\n",
    "- Distribtion of no. of reviews per user\n",
    "- Distribtion of average rating per user\n",
    "- Distribtion of helpfulness of reviews per user\n",
    "- Helpfulness vs average length of reviews\n",
    "\n",
    "###### Analysis 3 : POINT OF INTEREST AS THE ONE WITH MAXIMUM NUMBER OF REVIEWS\n",
    "- Reviewer with maximum number of reviews\n",
    "- Distribution of reviews for 'user' based on overall rating (reviewer_id : X)\n",
    "- Distribution of reviews over the years for 'user'\n",
    "- Percentage distribution of negative reviews for 'user', since the count of reviews is dropping post year 2009\n",
    "- Lexical density distribution over the year for reviews written by 'user'\n",
    "- Wordcloud of all important words used in 'user' reviews on amazon\n",
    "- Number of distinct products reviewed by 'user' on amazon\n",
    "- Products reviewed by 'user'\n",
    "- Popular sub-category for 'user'\n",
    "- Price range in which 'user' shops\n",
    "\n",
    "###### Analysis 4 : BUNDLE OR BOUGHT-TOGETHER BASED ANALYSIS\n",
    "- Check for the popular bundle (quantity in a bundle).\n",
    "- Top 10 Popular brands which sells Pack of 2 and 5, as they are the popular bundles.\n",
    "- Top 10 Popular Sub-Category with Pack of 2 and 5.\n",
    "- Checking for number of products the brand 'Rubie's Costume Co' has listed on Amazon since it has highest number of bundle in pack 2 and 5.\n",
    "- Minimum, Maximum and Average Selling Price of prodcts sold by the Brand 'Rubie's Costume Co'.\n",
    "- Top 10 Highest selling product in 'Clothing' Category for Brand 'Rubie's Costume Co'.\n",
    "- Top 10 most viewed product for brand 'Rubie's Costume Co'.\n",
    "\n",
    "##### Analysis 5 : RECOMMENDER SYSTEM \n",
    "- Collaborative filtering algorithms is used to get the recomendations.\n",
    "- The Recommender System will take the 'Product Name' and based on the correlation factor will give output as list of products which will be a suggestion or recommendation.\n",
    "- Suppose product name 'A' act as input parameter i.e. If a user buy product 'A' so based on that it will output the product highly correlated to it.\n",
    "---"
   ]
  },
  {
   "cell_type": "markdown",
   "metadata": {},
   "source": [
    "### tamarakatic\n",
    "\n",
    "https://github.com/tamarakatic/sentiment-analysis-in-amazon-reviews\n",
    "\n",
    "- Ngrams vs Conv nets\n",
    "- Zipf's Law\n",
    "- BoN vs Word Embeddings + LR\n",
    "- Data analysis\n",
    "- Class Activation Map (CAM)\n",
    "- Model Ensemble\n",
    "\n",
    "---"
   ]
  },
  {
   "cell_type": "code",
   "execution_count": null,
   "metadata": {},
   "outputs": [],
   "source": []
  }
 ],
 "metadata": {
  "kernelspec": {
   "display_name": "Python 3",
   "language": "python",
   "name": "python3"
  },
  "language_info": {
   "codemirror_mode": {
    "name": "ipython",
    "version": 3
   },
   "file_extension": ".py",
   "mimetype": "text/x-python",
   "name": "python",
   "nbconvert_exporter": "python",
   "pygments_lexer": "ipython3",
   "version": "3.7.6"
  },
  "varInspector": {
   "cols": {
    "lenName": 16,
    "lenType": 16,
    "lenVar": 40
   },
   "kernels_config": {
    "python": {
     "delete_cmd_postfix": "",
     "delete_cmd_prefix": "del ",
     "library": "var_list.py",
     "varRefreshCmd": "print(var_dic_list())"
    },
    "r": {
     "delete_cmd_postfix": ") ",
     "delete_cmd_prefix": "rm(",
     "library": "var_list.r",
     "varRefreshCmd": "cat(var_dic_list()) "
    }
   },
   "types_to_exclude": [
    "module",
    "function",
    "builtin_function_or_method",
    "instance",
    "_Feature"
   ],
   "window_display": false
  }
 },
 "nbformat": 4,
 "nbformat_minor": 4
}
